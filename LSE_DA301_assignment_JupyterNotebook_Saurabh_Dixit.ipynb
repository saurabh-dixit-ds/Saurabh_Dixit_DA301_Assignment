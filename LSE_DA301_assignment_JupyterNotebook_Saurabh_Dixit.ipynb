{
 "cells": [
  {
   "cell_type": "code",
   "execution_count": 1,
   "id": "a3294581",
   "metadata": {},
   "outputs": [
    {
     "name": "stdout",
     "output_type": "stream",
     "text": [
      "Requirement already satisfied: statsmodels in /Users/Saurabh/opt/anaconda3/envs/Python/lib/python3.10/site-packages (0.13.2)\n",
      "Requirement already satisfied: numpy>=1.17 in /Users/Saurabh/opt/anaconda3/envs/Python/lib/python3.10/site-packages (from statsmodels) (1.22.4)\n",
      "Requirement already satisfied: pandas>=0.25 in /Users/Saurabh/opt/anaconda3/envs/Python/lib/python3.10/site-packages (from statsmodels) (1.4.2)\n",
      "Requirement already satisfied: patsy>=0.5.2 in /Users/Saurabh/opt/anaconda3/envs/Python/lib/python3.10/site-packages (from statsmodels) (0.5.2)\n",
      "Requirement already satisfied: scipy>=1.3 in /Users/Saurabh/opt/anaconda3/envs/Python/lib/python3.10/site-packages (from statsmodels) (1.8.1)\n",
      "Requirement already satisfied: packaging>=21.3 in /Users/Saurabh/opt/anaconda3/envs/Python/lib/python3.10/site-packages (from statsmodels) (21.3)\n",
      "Requirement already satisfied: pyparsing!=3.0.5,>=2.0.2 in /Users/Saurabh/opt/anaconda3/envs/Python/lib/python3.10/site-packages (from packaging>=21.3->statsmodels) (3.0.4)\n",
      "Requirement already satisfied: python-dateutil>=2.8.1 in /Users/Saurabh/opt/anaconda3/envs/Python/lib/python3.10/site-packages (from pandas>=0.25->statsmodels) (2.8.2)\n",
      "Requirement already satisfied: pytz>=2020.1 in /Users/Saurabh/opt/anaconda3/envs/Python/lib/python3.10/site-packages (from pandas>=0.25->statsmodels) (2021.3)\n",
      "Requirement already satisfied: six in /Users/Saurabh/opt/anaconda3/envs/Python/lib/python3.10/site-packages (from patsy>=0.5.2->statsmodels) (1.16.0)\n",
      "Requirement already satisfied: sklearn in /Users/Saurabh/opt/anaconda3/envs/Python/lib/python3.10/site-packages (0.0)\n",
      "Requirement already satisfied: scikit-learn in /Users/Saurabh/opt/anaconda3/envs/Python/lib/python3.10/site-packages (from sklearn) (1.1.1)\n",
      "Requirement already satisfied: threadpoolctl>=2.0.0 in /Users/Saurabh/opt/anaconda3/envs/Python/lib/python3.10/site-packages (from scikit-learn->sklearn) (3.1.0)\n",
      "Requirement already satisfied: scipy>=1.3.2 in /Users/Saurabh/opt/anaconda3/envs/Python/lib/python3.10/site-packages (from scikit-learn->sklearn) (1.8.1)\n",
      "Requirement already satisfied: joblib>=1.0.0 in /Users/Saurabh/opt/anaconda3/envs/Python/lib/python3.10/site-packages (from scikit-learn->sklearn) (1.1.0)\n",
      "Requirement already satisfied: numpy>=1.17.3 in /Users/Saurabh/opt/anaconda3/envs/Python/lib/python3.10/site-packages (from scikit-learn->sklearn) (1.22.4)\n"
     ]
    }
   ],
   "source": [
    "# import the necessary libraries\n",
    "!pip3 install statsmodels\n",
    "import statsmodels.api as sm \n",
    "from statsmodels.formula.api import ols\n",
    "import numpy as np\n",
    "import pandas as pd\n",
    "import matplotlib.pyplot as plt\n",
    "!pip3 install sklearn\n",
    "import sklearn\n",
    "\n",
    "\n",
    "from sklearn import datasets \n",
    "from sklearn import linear_model\n",
    "from statsmodels.stats.outliers_influence import variance_inflation_factor\n",
    "from sklearn.model_selection import train_test_split\n",
    "from sklearn import metrics\n",
    "from sklearn.linear_model import LinearRegression\n",
    "from statsmodels.formula.api import ols"
   ]
  },
  {
   "cell_type": "markdown",
   "id": "13201534",
   "metadata": {},
   "source": [
    "### Import the Lego data set"
   ]
  },
  {
   "cell_type": "code",
   "execution_count": 2,
   "id": "61c6ec9c",
   "metadata": {},
   "outputs": [
    {
     "data": {
      "text/html": [
       "<div>\n",
       "<style scoped>\n",
       "    .dataframe tbody tr th:only-of-type {\n",
       "        vertical-align: middle;\n",
       "    }\n",
       "\n",
       "    .dataframe tbody tr th {\n",
       "        vertical-align: top;\n",
       "    }\n",
       "\n",
       "    .dataframe thead th {\n",
       "        text-align: right;\n",
       "    }\n",
       "</style>\n",
       "<table border=\"1\" class=\"dataframe\">\n",
       "  <thead>\n",
       "    <tr style=\"text-align: right;\">\n",
       "      <th></th>\n",
       "      <th>ages</th>\n",
       "      <th>list_price</th>\n",
       "      <th>num_reviews</th>\n",
       "      <th>piece_count</th>\n",
       "      <th>play_star_rating</th>\n",
       "      <th>review_difficulty</th>\n",
       "      <th>country</th>\n",
       "    </tr>\n",
       "  </thead>\n",
       "  <tbody>\n",
       "    <tr>\n",
       "      <th>0</th>\n",
       "      <td>19</td>\n",
       "      <td>29.9900</td>\n",
       "      <td>2</td>\n",
       "      <td>277</td>\n",
       "      <td>4.0</td>\n",
       "      <td>0</td>\n",
       "      <td>20</td>\n",
       "    </tr>\n",
       "    <tr>\n",
       "      <th>1</th>\n",
       "      <td>19</td>\n",
       "      <td>19.9900</td>\n",
       "      <td>2</td>\n",
       "      <td>168</td>\n",
       "      <td>4.0</td>\n",
       "      <td>2</td>\n",
       "      <td>20</td>\n",
       "    </tr>\n",
       "    <tr>\n",
       "      <th>2</th>\n",
       "      <td>19</td>\n",
       "      <td>12.9900</td>\n",
       "      <td>11</td>\n",
       "      <td>74</td>\n",
       "      <td>4.3</td>\n",
       "      <td>2</td>\n",
       "      <td>20</td>\n",
       "    </tr>\n",
       "    <tr>\n",
       "      <th>3</th>\n",
       "      <td>5</td>\n",
       "      <td>99.9900</td>\n",
       "      <td>23</td>\n",
       "      <td>1032</td>\n",
       "      <td>3.6</td>\n",
       "      <td>0</td>\n",
       "      <td>20</td>\n",
       "    </tr>\n",
       "    <tr>\n",
       "      <th>4</th>\n",
       "      <td>5</td>\n",
       "      <td>79.9900</td>\n",
       "      <td>14</td>\n",
       "      <td>744</td>\n",
       "      <td>3.2</td>\n",
       "      <td>1</td>\n",
       "      <td>20</td>\n",
       "    </tr>\n",
       "    <tr>\n",
       "      <th>...</th>\n",
       "      <td>...</td>\n",
       "      <td>...</td>\n",
       "      <td>...</td>\n",
       "      <td>...</td>\n",
       "      <td>...</td>\n",
       "      <td>...</td>\n",
       "      <td>...</td>\n",
       "    </tr>\n",
       "    <tr>\n",
       "      <th>12256</th>\n",
       "      <td>23</td>\n",
       "      <td>36.5878</td>\n",
       "      <td>6</td>\n",
       "      <td>341</td>\n",
       "      <td>4.4</td>\n",
       "      <td>2</td>\n",
       "      <td>19</td>\n",
       "    </tr>\n",
       "    <tr>\n",
       "      <th>12257</th>\n",
       "      <td>23</td>\n",
       "      <td>24.3878</td>\n",
       "      <td>8</td>\n",
       "      <td>217</td>\n",
       "      <td>4.1</td>\n",
       "      <td>2</td>\n",
       "      <td>19</td>\n",
       "    </tr>\n",
       "    <tr>\n",
       "      <th>12258</th>\n",
       "      <td>23</td>\n",
       "      <td>24.3878</td>\n",
       "      <td>18</td>\n",
       "      <td>233</td>\n",
       "      <td>4.6</td>\n",
       "      <td>2</td>\n",
       "      <td>19</td>\n",
       "    </tr>\n",
       "    <tr>\n",
       "      <th>12259</th>\n",
       "      <td>20</td>\n",
       "      <td>12.1878</td>\n",
       "      <td>1</td>\n",
       "      <td>48</td>\n",
       "      <td>5.0</td>\n",
       "      <td>4</td>\n",
       "      <td>19</td>\n",
       "    </tr>\n",
       "    <tr>\n",
       "      <th>12260</th>\n",
       "      <td>20</td>\n",
       "      <td>12.1878</td>\n",
       "      <td>11</td>\n",
       "      <td>109</td>\n",
       "      <td>4.5</td>\n",
       "      <td>2</td>\n",
       "      <td>19</td>\n",
       "    </tr>\n",
       "  </tbody>\n",
       "</table>\n",
       "<p>12261 rows × 7 columns</p>\n",
       "</div>"
      ],
      "text/plain": [
       "       ages  list_price  num_reviews  piece_count  play_star_rating  \\\n",
       "0        19     29.9900            2          277               4.0   \n",
       "1        19     19.9900            2          168               4.0   \n",
       "2        19     12.9900           11           74               4.3   \n",
       "3         5     99.9900           23         1032               3.6   \n",
       "4         5     79.9900           14          744               3.2   \n",
       "...     ...         ...          ...          ...               ...   \n",
       "12256    23     36.5878            6          341               4.4   \n",
       "12257    23     24.3878            8          217               4.1   \n",
       "12258    23     24.3878           18          233               4.6   \n",
       "12259    20     12.1878            1           48               5.0   \n",
       "12260    20     12.1878           11          109               4.5   \n",
       "\n",
       "       review_difficulty  country  \n",
       "0                      0       20  \n",
       "1                      2       20  \n",
       "2                      2       20  \n",
       "3                      0       20  \n",
       "4                      1       20  \n",
       "...                  ...      ...  \n",
       "12256                  2       19  \n",
       "12257                  2       19  \n",
       "12258                  2       19  \n",
       "12259                  4       19  \n",
       "12260                  2       19  \n",
       "\n",
       "[12261 rows x 7 columns]"
      ]
     },
     "execution_count": 2,
     "metadata": {},
     "output_type": "execute_result"
    }
   ],
   "source": [
    "# import lego data set\n",
    "df_lego = pd.read_csv('lego.csv')\n",
    "\n",
    "# view DataFrame\n",
    "df_lego"
   ]
  },
  {
   "cell_type": "code",
   "execution_count": 3,
   "id": "a1f1fc13",
   "metadata": {},
   "outputs": [
    {
     "name": "stdout",
     "output_type": "stream",
     "text": [
      "<class 'pandas.core.frame.DataFrame'>\n",
      "RangeIndex: 12261 entries, 0 to 12260\n",
      "Data columns (total 7 columns):\n",
      " #   Column             Non-Null Count  Dtype  \n",
      "---  ------             --------------  -----  \n",
      " 0   ages               12261 non-null  int64  \n",
      " 1   list_price         12261 non-null  float64\n",
      " 2   num_reviews        12261 non-null  int64  \n",
      " 3   piece_count        12261 non-null  int64  \n",
      " 4   play_star_rating   12261 non-null  float64\n",
      " 5   review_difficulty  12261 non-null  int64  \n",
      " 6   country            12261 non-null  int64  \n",
      "dtypes: float64(2), int64(5)\n",
      "memory usage: 670.6 KB\n"
     ]
    }
   ],
   "source": [
    "df_lego.info()"
   ]
  },
  {
   "cell_type": "code",
   "execution_count": 4,
   "id": "f423927a",
   "metadata": {},
   "outputs": [
    {
     "data": {
      "text/html": [
       "<div>\n",
       "<style scoped>\n",
       "    .dataframe tbody tr th:only-of-type {\n",
       "        vertical-align: middle;\n",
       "    }\n",
       "\n",
       "    .dataframe tbody tr th {\n",
       "        vertical-align: top;\n",
       "    }\n",
       "\n",
       "    .dataframe thead th {\n",
       "        text-align: right;\n",
       "    }\n",
       "</style>\n",
       "<table border=\"1\" class=\"dataframe\">\n",
       "  <thead>\n",
       "    <tr style=\"text-align: right;\">\n",
       "      <th></th>\n",
       "      <th>ages</th>\n",
       "      <th>list_price</th>\n",
       "      <th>num_reviews</th>\n",
       "      <th>piece_count</th>\n",
       "      <th>play_star_rating</th>\n",
       "      <th>review_difficulty</th>\n",
       "      <th>country</th>\n",
       "    </tr>\n",
       "  </thead>\n",
       "  <tbody>\n",
       "    <tr>\n",
       "      <th>count</th>\n",
       "      <td>12261.00000</td>\n",
       "      <td>12261.000000</td>\n",
       "      <td>12261.000000</td>\n",
       "      <td>12261.000000</td>\n",
       "      <td>12261.000000</td>\n",
       "      <td>12261.000000</td>\n",
       "      <td>12261.000000</td>\n",
       "    </tr>\n",
       "    <tr>\n",
       "      <th>mean</th>\n",
       "      <td>16.68828</td>\n",
       "      <td>65.141998</td>\n",
       "      <td>14.603050</td>\n",
       "      <td>493.405921</td>\n",
       "      <td>3.709689</td>\n",
       "      <td>1.988826</td>\n",
       "      <td>10.015333</td>\n",
       "    </tr>\n",
       "    <tr>\n",
       "      <th>std</th>\n",
       "      <td>8.21868</td>\n",
       "      <td>91.980429</td>\n",
       "      <td>34.356847</td>\n",
       "      <td>825.364580</td>\n",
       "      <td>1.641130</td>\n",
       "      <td>1.787565</td>\n",
       "      <td>6.185450</td>\n",
       "    </tr>\n",
       "    <tr>\n",
       "      <th>min</th>\n",
       "      <td>0.00000</td>\n",
       "      <td>2.272400</td>\n",
       "      <td>0.000000</td>\n",
       "      <td>1.000000</td>\n",
       "      <td>0.000000</td>\n",
       "      <td>0.000000</td>\n",
       "      <td>0.000000</td>\n",
       "    </tr>\n",
       "    <tr>\n",
       "      <th>25%</th>\n",
       "      <td>11.00000</td>\n",
       "      <td>19.990000</td>\n",
       "      <td>1.000000</td>\n",
       "      <td>97.000000</td>\n",
       "      <td>3.600000</td>\n",
       "      <td>0.000000</td>\n",
       "      <td>4.000000</td>\n",
       "    </tr>\n",
       "    <tr>\n",
       "      <th>50%</th>\n",
       "      <td>19.00000</td>\n",
       "      <td>36.587800</td>\n",
       "      <td>4.000000</td>\n",
       "      <td>216.000000</td>\n",
       "      <td>4.400000</td>\n",
       "      <td>2.000000</td>\n",
       "      <td>10.000000</td>\n",
       "    </tr>\n",
       "    <tr>\n",
       "      <th>75%</th>\n",
       "      <td>23.00000</td>\n",
       "      <td>70.192200</td>\n",
       "      <td>11.000000</td>\n",
       "      <td>544.000000</td>\n",
       "      <td>4.700000</td>\n",
       "      <td>4.000000</td>\n",
       "      <td>15.000000</td>\n",
       "    </tr>\n",
       "    <tr>\n",
       "      <th>max</th>\n",
       "      <td>30.00000</td>\n",
       "      <td>1104.870000</td>\n",
       "      <td>367.000000</td>\n",
       "      <td>7541.000000</td>\n",
       "      <td>5.000000</td>\n",
       "      <td>5.000000</td>\n",
       "      <td>20.000000</td>\n",
       "    </tr>\n",
       "  </tbody>\n",
       "</table>\n",
       "</div>"
      ],
      "text/plain": [
       "              ages    list_price   num_reviews   piece_count  \\\n",
       "count  12261.00000  12261.000000  12261.000000  12261.000000   \n",
       "mean      16.68828     65.141998     14.603050    493.405921   \n",
       "std        8.21868     91.980429     34.356847    825.364580   \n",
       "min        0.00000      2.272400      0.000000      1.000000   \n",
       "25%       11.00000     19.990000      1.000000     97.000000   \n",
       "50%       19.00000     36.587800      4.000000    216.000000   \n",
       "75%       23.00000     70.192200     11.000000    544.000000   \n",
       "max       30.00000   1104.870000    367.000000   7541.000000   \n",
       "\n",
       "       play_star_rating  review_difficulty       country  \n",
       "count      12261.000000       12261.000000  12261.000000  \n",
       "mean           3.709689           1.988826     10.015333  \n",
       "std            1.641130           1.787565      6.185450  \n",
       "min            0.000000           0.000000      0.000000  \n",
       "25%            3.600000           0.000000      4.000000  \n",
       "50%            4.400000           2.000000     10.000000  \n",
       "75%            4.700000           4.000000     15.000000  \n",
       "max            5.000000           5.000000     20.000000  "
      ]
     },
     "execution_count": 4,
     "metadata": {},
     "output_type": "execute_result"
    }
   ],
   "source": [
    "df_lego.describe()"
   ]
  },
  {
   "cell_type": "code",
   "execution_count": 5,
   "id": "558a5633",
   "metadata": {},
   "outputs": [
    {
     "data": {
      "text/plain": [
       "(12261, 7)"
      ]
     },
     "execution_count": 5,
     "metadata": {},
     "output_type": "execute_result"
    }
   ],
   "source": [
    "df_lego.shape"
   ]
  },
  {
   "cell_type": "markdown",
   "id": "68c645a2",
   "metadata": {},
   "source": [
    "### Describing the data set\n",
    "- **Num of Rows :** 12261\n",
    "- **Num of Columns :** 7\n"
   ]
  },
  {
   "cell_type": "code",
   "execution_count": 6,
   "id": "a16fb540",
   "metadata": {},
   "outputs": [
    {
     "data": {
      "text/plain": [
       "ages                 0\n",
       "list_price           0\n",
       "num_reviews          0\n",
       "piece_count          0\n",
       "play_star_rating     0\n",
       "review_difficulty    0\n",
       "country              0\n",
       "dtype: int64"
      ]
     },
     "execution_count": 6,
     "metadata": {},
     "output_type": "execute_result"
    }
   ],
   "source": [
    "# There are 12261 Rows and 7 Cols in the dataset\n",
    "# Check for missing values\n",
    "df_lego.isna().sum()"
   ]
  },
  {
   "cell_type": "code",
   "execution_count": 7,
   "id": "5a36e878",
   "metadata": {},
   "outputs": [
    {
     "data": {
      "text/plain": [
       "ages                 0\n",
       "list_price           0\n",
       "num_reviews          0\n",
       "piece_count          0\n",
       "play_star_rating     0\n",
       "review_difficulty    0\n",
       "country              0\n",
       "dtype: int64"
      ]
     },
     "execution_count": 7,
     "metadata": {},
     "output_type": "execute_result"
    }
   ],
   "source": [
    "# Check for null values\n",
    "df_lego.isnull().sum()"
   ]
  },
  {
   "cell_type": "markdown",
   "id": "f37f74ee",
   "metadata": {},
   "source": [
    "### Sense check the data\n",
    "- **There are No missing values in any of the columns in the Lego data set**"
   ]
  },
  {
   "cell_type": "markdown",
   "id": "2fb52d37",
   "metadata": {},
   "source": [
    "#### Min and Max values in lego data set "
   ]
  },
  {
   "cell_type": "code",
   "execution_count": 8,
   "id": "80f1bd0a",
   "metadata": {},
   "outputs": [
    {
     "data": {
      "text/plain": [
       "ages                 0.0000\n",
       "list_price           2.2724\n",
       "num_reviews          0.0000\n",
       "piece_count          1.0000\n",
       "play_star_rating     0.0000\n",
       "review_difficulty    0.0000\n",
       "country              0.0000\n",
       "dtype: float64"
      ]
     },
     "execution_count": 8,
     "metadata": {},
     "output_type": "execute_result"
    }
   ],
   "source": [
    "df_lego.min()"
   ]
  },
  {
   "cell_type": "code",
   "execution_count": 9,
   "id": "6af45761",
   "metadata": {},
   "outputs": [
    {
     "data": {
      "text/plain": [
       "ages                   30.00\n",
       "list_price           1104.87\n",
       "num_reviews           367.00\n",
       "piece_count          7541.00\n",
       "play_star_rating        5.00\n",
       "review_difficulty       5.00\n",
       "country                20.00\n",
       "dtype: float64"
      ]
     },
     "execution_count": 9,
     "metadata": {},
     "output_type": "execute_result"
    }
   ],
   "source": [
    "df_lego.max()"
   ]
  },
  {
   "cell_type": "code",
   "execution_count": 10,
   "id": "48ca8a2a",
   "metadata": {},
   "outputs": [
    {
     "data": {
      "text/plain": [
       "30"
      ]
     },
     "execution_count": 10,
     "metadata": {},
     "output_type": "execute_result"
    }
   ],
   "source": [
    "#MAX value of ages\n",
    "df_lego['ages'].max()"
   ]
  },
  {
   "cell_type": "code",
   "execution_count": 11,
   "id": "277ae3f5",
   "metadata": {},
   "outputs": [
    {
     "data": {
      "text/plain": [
       "1104.87"
      ]
     },
     "execution_count": 11,
     "metadata": {},
     "output_type": "execute_result"
    }
   ],
   "source": [
    "#MAX value of list_price\n",
    "df_lego['list_price'].max()"
   ]
  },
  {
   "cell_type": "markdown",
   "id": "5cf2e048",
   "metadata": {},
   "source": [
    "### Obervations based on Min and Max values\n",
    "-  Number of **Lego pieces range** from **Min value** of **1** to the **Max value** of **7541** pieces\n",
    "- **Price** of the Lego product (in US dollars) ranges from **Min value** of **2.2724** to the **Max value** of **1104.87** US$\n"
   ]
  },
  {
   "cell_type": "code",
   "execution_count": 12,
   "id": "1fd24962",
   "metadata": {},
   "outputs": [
    {
     "data": {
      "text/plain": [
       "ages                 12075\n",
       "list_price           12075\n",
       "num_reviews          12075\n",
       "piece_count          12075\n",
       "play_star_rating     12075\n",
       "review_difficulty    12075\n",
       "country              12075\n",
       "dtype: int64"
      ]
     },
     "execution_count": 12,
     "metadata": {},
     "output_type": "execute_result"
    }
   ],
   "source": [
    "#Check how many records show list_price <=400 US$\n",
    "df_lego[df_lego['list_price']<=400].count()"
   ]
  },
  {
   "cell_type": "code",
   "execution_count": 13,
   "id": "448b7f83",
   "metadata": {},
   "outputs": [
    {
     "data": {
      "text/plain": [
       "Text(0.5, 1.0, 'Number of Lego Pieces ~ Price in US$')"
      ]
     },
     "execution_count": 13,
     "metadata": {},
     "output_type": "execute_result"
    },
    {
     "data": {
      "image/png": "[encoded data removed]",
      "text/plain": [
       "<Figure size 1080x576 with 1 Axes>"
      ]
     },
     "metadata": {
      "needs_background": "light"
     },
     "output_type": "display_data"
    }
   ],
   "source": [
    "# dependent variable\n",
    "y = df_lego['list_price'] \n",
    " # independent variable\n",
    "X = df_lego['piece_count']\n",
    "\n",
    "# check for linearity\n",
    "plt.figure(figsize=(15,8))\n",
    "plt.scatter(X,y)\n",
    "plt.xlabel(\"Number of Lego Pieces\", fontsize=15, fontweight='bold')\n",
    "plt.ylabel(\"Price in US $\", fontsize=15, fontweight='bold')\n",
    "plt.title(\"Number of Lego Pieces ~ Price in US$\",fontsize=15, fontweight='bold', loc='center', color='blue')\n"
   ]
  },
  {
   "cell_type": "markdown",
   "id": "699c470d",
   "metadata": {},
   "source": [
    "### Obervations based on Scatterplot \n",
    "\n",
    "1. **Minimum Price** of Lego product is **2.2742 US$** \n",
    "\n",
    "2.  **Maximum Price** is **1104.87 US$**\n",
    "\n",
    "3. **Majority (count=12075)** of the available Lego products are in the **price range** of **3 to 400 US$**\n",
    "\n",
    "4. **Very few** Lego products go **beyond** the price of **400** **US$**\n",
    "\n",
    "5. **Price** of Lego products goes **beyond** **600** **US$** for the **first time** when the **No. of Lego pieces** is between **2500** and **2700 pieces**"
   ]
  },
  {
   "cell_type": "markdown",
   "id": "d0b138ba",
   "metadata": {},
   "source": [
    "\n",
    "### Run OLS Test with below parameters\n",
    "- **Dependent Variable** [ y ]: **Price in US$**\n",
    "- **Independent Variable** [ X ]: **Number of Pieces in the Lego product**"
   ]
  },
  {
   "cell_type": "code",
   "execution_count": 14,
   "id": "27b5a503",
   "metadata": {},
   "outputs": [
    {
     "data": {
      "text/html": [
       "<table class=\"simpletable\">\n",
       "<caption>OLS Regression Results</caption>\n",
       "<tr>\n",
       "  <th>Dep. Variable:</th>            <td>y</td>        <th>  R-squared:         </th> <td>   0.756</td> \n",
       "</tr>\n",
       "<tr>\n",
       "  <th>Model:</th>                   <td>OLS</td>       <th>  Adj. R-squared:    </th> <td>   0.756</td> \n",
       "</tr>\n",
       "<tr>\n",
       "  <th>Method:</th>             <td>Least Squares</td>  <th>  F-statistic:       </th> <td>3.804e+04</td>\n",
       "</tr>\n",
       "<tr>\n",
       "  <th>Date:</th>             <td>Tue, 28 Jun 2022</td> <th>  Prob (F-statistic):</th>  <td>  0.00</td>  \n",
       "</tr>\n",
       "<tr>\n",
       "  <th>Time:</th>                 <td>05:31:41</td>     <th>  Log-Likelihood:    </th> <td> -64182.</td> \n",
       "</tr>\n",
       "<tr>\n",
       "  <th>No. Observations:</th>      <td> 12261</td>      <th>  AIC:               </th> <td>1.284e+05</td>\n",
       "</tr>\n",
       "<tr>\n",
       "  <th>Df Residuals:</th>          <td> 12259</td>      <th>  BIC:               </th> <td>1.284e+05</td>\n",
       "</tr>\n",
       "<tr>\n",
       "  <th>Df Model:</th>              <td>     1</td>      <th>                     </th>     <td> </td>    \n",
       "</tr>\n",
       "<tr>\n",
       "  <th>Covariance Type:</th>      <td>nonrobust</td>    <th>                     </th>     <td> </td>    \n",
       "</tr>\n",
       "</table>\n",
       "<table class=\"simpletable\">\n",
       "<tr>\n",
       "      <td></td>         <th>coef</th>     <th>std err</th>      <th>t</th>      <th>P>|t|</th>  <th>[0.025</th>    <th>0.975]</th>  \n",
       "</tr>\n",
       "<tr>\n",
       "  <th>Intercept</th> <td>   17.3243</td> <td>    0.478</td> <td>   36.256</td> <td> 0.000</td> <td>   16.388</td> <td>   18.261</td>\n",
       "</tr>\n",
       "<tr>\n",
       "  <th>X</th>         <td>    0.0969</td> <td>    0.000</td> <td>  195.027</td> <td> 0.000</td> <td>    0.096</td> <td>    0.098</td>\n",
       "</tr>\n",
       "</table>\n",
       "<table class=\"simpletable\">\n",
       "<tr>\n",
       "  <th>Omnibus:</th>       <td>13987.172</td> <th>  Durbin-Watson:     </th>  <td>   1.040</td>  \n",
       "</tr>\n",
       "<tr>\n",
       "  <th>Prob(Omnibus):</th>  <td> 0.000</td>   <th>  Jarque-Bera (JB):  </th> <td>2037748.322</td>\n",
       "</tr>\n",
       "<tr>\n",
       "  <th>Skew:</th>           <td> 5.819</td>   <th>  Prob(JB):          </th>  <td>    0.00</td>  \n",
       "</tr>\n",
       "<tr>\n",
       "  <th>Kurtosis:</th>       <td>65.075</td>   <th>  Cond. No.          </th>  <td>1.12e+03</td>  \n",
       "</tr>\n",
       "</table><br/><br/>Notes:<br/>[1] Standard Errors assume that the covariance matrix of the errors is correctly specified.<br/>[2] The condition number is large, 1.12e+03. This might indicate that there are<br/>strong multicollinearity or other numerical problems."
      ],
      "text/plain": [
       "<class 'statsmodels.iolib.summary.Summary'>\n",
       "\"\"\"\n",
       "                            OLS Regression Results                            \n",
       "==============================================================================\n",
       "Dep. Variable:                      y   R-squared:                       0.756\n",
       "Model:                            OLS   Adj. R-squared:                  0.756\n",
       "Method:                 Least Squares   F-statistic:                 3.804e+04\n",
       "Date:                Tue, 28 Jun 2022   Prob (F-statistic):               0.00\n",
       "Time:                        05:31:41   Log-Likelihood:                -64182.\n",
       "No. Observations:               12261   AIC:                         1.284e+05\n",
       "Df Residuals:                   12259   BIC:                         1.284e+05\n",
       "Df Model:                           1                                         \n",
       "Covariance Type:            nonrobust                                         \n",
       "==============================================================================\n",
       "                 coef    std err          t      P>|t|      [0.025      0.975]\n",
       "------------------------------------------------------------------------------\n",
       "Intercept     17.3243      0.478     36.256      0.000      16.388      18.261\n",
       "X              0.0969      0.000    195.027      0.000       0.096       0.098\n",
       "==============================================================================\n",
       "Omnibus:                    13987.172   Durbin-Watson:                   1.040\n",
       "Prob(Omnibus):                  0.000   Jarque-Bera (JB):          2037748.322\n",
       "Skew:                           5.819   Prob(JB):                         0.00\n",
       "Kurtosis:                      65.075   Cond. No.                     1.12e+03\n",
       "==============================================================================\n",
       "\n",
       "Notes:\n",
       "[1] Standard Errors assume that the covariance matrix of the errors is correctly specified.\n",
       "[2] The condition number is large, 1.12e+03. This might indicate that there are\n",
       "strong multicollinearity or other numerical problems.\n",
       "\"\"\""
      ]
     },
     "execution_count": 14,
     "metadata": {},
     "output_type": "execute_result"
    }
   ],
   "source": [
    "f = 'y ~ X'\n",
    "ols_test = ols(f, data = df_lego).fit()\n",
    "\n",
    "ols_test.summary()"
   ]
  },
  {
   "cell_type": "markdown",
   "id": "a2ed31c1",
   "metadata": {},
   "source": [
    "### Obervations based on Simple Linear Regression Analysis\n",
    "\n",
    "1. **R-squared (the coefficient of determination)** is **0.756**.\n",
    "\n",
    "\n",
    "2.  We have a **High** value of the **coefficient of determination**, which means:\n",
    "      - There is a **Strong relationship** between the model and dependent variable **Price**\n",
    "      - We can say that **75.6%** of the **Variation in the Price** is **explained by** the variation in the **Number of Pieces**\n",
    "      \n",
    "\n",
    "3. **Standard Error** is  **0.478**"
   ]
  },
  {
   "cell_type": "code",
   "execution_count": 16,
   "id": "2c63cffa",
   "metadata": {},
   "outputs": [
    {
     "data": {
      "text/plain": [
       "0         44.1656\n",
       "1         33.6035\n",
       "2         24.4949\n",
       "3        117.3251\n",
       "4         89.4179\n",
       "           ...   \n",
       "12256     50.3672\n",
       "12257     38.3516\n",
       "12258     39.9020\n",
       "12259     21.9755\n",
       "12260     27.8864\n",
       "Name: piece_count, Length: 12261, dtype: float64"
      ]
     },
     "execution_count": 16,
     "metadata": {},
     "output_type": "execute_result"
    }
   ],
   "source": [
    "# x coef: 0.0969\n",
    "# constant coef: 17.3243\n",
    "m = 0.0969\n",
    "c = 17.3243\n",
    "y_pred = m * X + c\n",
    "\n",
    "y_pred"
   ]
  },
  {
   "cell_type": "code",
   "execution_count": 17,
   "id": "9b125829",
   "metadata": {},
   "outputs": [
    {
     "data": {
      "text/plain": [
       "Text(0.5, 1.0, 'Number of Lego Pieces vs Price in US$')"
      ]
     },
     "execution_count": 17,
     "metadata": {},
     "output_type": "execute_result"
    },
    {
     "data": {
      "image/png": "[encoded data removed]",
      "text/plain": [
       "<Figure size 1080x576 with 1 Axes>"
      ]
     },
     "metadata": {
      "needs_background": "light"
     },
     "output_type": "display_data"
    }
   ],
   "source": [
    "# set the plot size\n",
    "plt.figure(figsize=(15,8))\n",
    "\n",
    "# plot the data points\n",
    "plt.scatter(X,y)\n",
    "\n",
    "# plot the line\n",
    "plt.plot(X,y_pred, color='red')\n",
    "plt.xlabel(\"Number of Lego Pieces\", fontsize=15, fontweight='bold')\n",
    "plt.ylabel(\"Price in US $\", fontsize=15, fontweight='bold')\n",
    "plt.title(\"Number of Lego Pieces vs Price in US$\",fontsize=15, fontweight='bold', loc='center', color='blue')\n"
   ]
  },
  {
   "cell_type": "markdown",
   "id": "ee357466",
   "metadata": {},
   "source": [
    "#### Question 1 :  What price should be set for the Lego sets that have 8,000 Lego pieces?"
   ]
  },
  {
   "cell_type": "code",
   "execution_count": 18,
   "id": "34411050",
   "metadata": {},
   "outputs": [
    {
     "name": "stdout",
     "output_type": "stream",
     "text": [
      "792.5243\n"
     ]
    }
   ],
   "source": [
    "#To answer Q1, we set X(no. of pieces) to 8000 and calculate predicted value of y ( Price ) \\\n",
    "#Using the regression equation: y_pred = m * X + c\n",
    "\n",
    "X = 8000 #no. of pieces set to 8000\n",
    "\n",
    "y_pred_8k = m * X + c\n",
    "\n",
    "print(y_pred_8k)"
   ]
  },
  {
   "cell_type": "markdown",
   "id": "489157d3",
   "metadata": {},
   "source": [
    "##### Question 1 :  What price should be set for the Lego sets that have 8,000 Lego pieces?\n",
    "### Answer : \n",
    "Based on the Regression Equation, **Predicted Price** for the Lego set having **8000 pieces** is : **792.5243 US $**"
   ]
  },
  {
   "cell_type": "markdown",
   "id": "806dfff4",
   "metadata": {},
   "source": [
    "### Multiple Linear Regression [MLR]"
   ]
  },
  {
   "cell_type": "code",
   "execution_count": 19,
   "id": "022e6902",
   "metadata": {},
   "outputs": [],
   "source": [
    "# Extract the records that have age == 30\n",
    "df_lego_ages_30 = df_lego[df_lego['ages']==30]\n",
    "\n",
    "# dependent variable\n",
    "y = df_lego_ages_30['list_price'] \n",
    "# independent variables\n",
    "\n",
    "X = df_lego_ages_30[['piece_count', 'ages']]"
   ]
  },
  {
   "cell_type": "code",
   "execution_count": 20,
   "id": "7e3b589c",
   "metadata": {},
   "outputs": [
    {
     "data": {
      "text/plain": [
       "ages                 92\n",
       "list_price           92\n",
       "num_reviews          92\n",
       "piece_count          92\n",
       "play_star_rating     92\n",
       "review_difficulty    92\n",
       "country              92\n",
       "dtype: int64"
      ]
     },
     "execution_count": 20,
     "metadata": {},
     "output_type": "execute_result"
    }
   ],
   "source": [
    "df_lego_ages_30.count()"
   ]
  },
  {
   "cell_type": "code",
   "execution_count": 21,
   "id": "7a0f5edf",
   "metadata": {},
   "outputs": [
    {
     "name": "stdout",
     "output_type": "stream",
     "text": [
      "       piece_count  ages\n",
      "735            370    30\n",
      "737           1020    30\n",
      "740            513    30\n",
      "743             10    30\n",
      "755            494    30\n",
      "...            ...   ...\n",
      "11666           10    30\n",
      "12206          370    30\n",
      "12208         1020    30\n",
      "12211          513    30\n",
      "12212           10    30\n",
      "\n",
      "[92 rows x 2 columns]\n"
     ]
    }
   ],
   "source": [
    "print(X)"
   ]
  },
  {
   "cell_type": "code",
   "execution_count": 22,
   "id": "209b6580",
   "metadata": {},
   "outputs": [],
   "source": [
    "# create train and test data sets\n",
    "x_train, x_test, y_train, y_test = train_test_split(X, y, test_size=0.3, train_size=0.7)"
   ]
  },
  {
   "cell_type": "code",
   "execution_count": 23,
   "id": "37bb6f3b",
   "metadata": {},
   "outputs": [
    {
     "data": {
      "text/html": [
       "<style>#sk-container-id-1 {color: black;background-color: white;}#sk-container-id-1 pre{padding: 0;}#sk-container-id-1 div.sk-toggleable {background-color: white;}#sk-container-id-1 label.sk-toggleable__label {cursor: pointer;display: block;width: 100%;margin-bottom: 0;padding: 0.3em;box-sizing: border-box;text-align: center;}#sk-container-id-1 label.sk-toggleable__label-arrow:before {content: \"▸\";float: left;margin-right: 0.25em;color: #696969;}#sk-container-id-1 label.sk-toggleable__label-arrow:hover:before {color: black;}#sk-container-id-1 div.sk-estimator:hover label.sk-toggleable__label-arrow:before {color: black;}#sk-container-id-1 div.sk-toggleable__content {max-height: 0;max-width: 0;overflow: hidden;text-align: left;background-color: #f0f8ff;}#sk-container-id-1 div.sk-toggleable__content pre {margin: 0.2em;color: black;border-radius: 0.25em;background-color: #f0f8ff;}#sk-container-id-1 input.sk-toggleable__control:checked~div.sk-toggleable__content {max-height: 200px;max-width: 100%;overflow: auto;}#sk-container-id-1 input.sk-toggleable__control:checked~label.sk-toggleable__label-arrow:before {content: \"▾\";}#sk-container-id-1 div.sk-estimator input.sk-toggleable__control:checked~label.sk-toggleable__label {background-color: #d4ebff;}#sk-container-id-1 div.sk-label input.sk-toggleable__control:checked~label.sk-toggleable__label {background-color: #d4ebff;}#sk-container-id-1 input.sk-hidden--visually {border: 0;clip: rect(1px 1px 1px 1px);clip: rect(1px, 1px, 1px, 1px);height: 1px;margin: -1px;overflow: hidden;padding: 0;position: absolute;width: 1px;}#sk-container-id-1 div.sk-estimator {font-family: monospace;background-color: #f0f8ff;border: 1px dotted black;border-radius: 0.25em;box-sizing: border-box;margin-bottom: 0.5em;}#sk-container-id-1 div.sk-estimator:hover {background-color: #d4ebff;}#sk-container-id-1 div.sk-parallel-item::after {content: \"\";width: 100%;border-bottom: 1px solid gray;flex-grow: 1;}#sk-container-id-1 div.sk-label:hover label.sk-toggleable__label {background-color: #d4ebff;}#sk-container-id-1 div.sk-serial::before {content: \"\";position: absolute;border-left: 1px solid gray;box-sizing: border-box;top: 0;bottom: 0;left: 50%;z-index: 0;}#sk-container-id-1 div.sk-serial {display: flex;flex-direction: column;align-items: center;background-color: white;padding-right: 0.2em;padding-left: 0.2em;position: relative;}#sk-container-id-1 div.sk-item {position: relative;z-index: 1;}#sk-container-id-1 div.sk-parallel {display: flex;align-items: stretch;justify-content: center;background-color: white;position: relative;}#sk-container-id-1 div.sk-item::before, #sk-container-id-1 div.sk-parallel-item::before {content: \"\";position: absolute;border-left: 1px solid gray;box-sizing: border-box;top: 0;bottom: 0;left: 50%;z-index: -1;}#sk-container-id-1 div.sk-parallel-item {display: flex;flex-direction: column;z-index: 1;position: relative;background-color: white;}#sk-container-id-1 div.sk-parallel-item:first-child::after {align-self: flex-end;width: 50%;}#sk-container-id-1 div.sk-parallel-item:last-child::after {align-self: flex-start;width: 50%;}#sk-container-id-1 div.sk-parallel-item:only-child::after {width: 0;}#sk-container-id-1 div.sk-dashed-wrapped {border: 1px dashed gray;margin: 0 0.4em 0.5em 0.4em;box-sizing: border-box;padding-bottom: 0.4em;background-color: white;}#sk-container-id-1 div.sk-label label {font-family: monospace;font-weight: bold;display: inline-block;line-height: 1.2em;}#sk-container-id-1 div.sk-label-container {text-align: center;}#sk-container-id-1 div.sk-container {/* jupyter's `normalize.less` sets `[hidden] { display: none; }` but bootstrap.min.css set `[hidden] { display: none !important; }` so we also need the `!important` here to be able to override the default hidden behavior on the sphinx rendered scikit-learn.org. See: https://github.com/scikit-learn/scikit-learn/issues/21755 */display: inline-block !important;position: relative;}#sk-container-id-1 div.sk-text-repr-fallback {display: none;}</style><div id=\"sk-container-id-1\" class=\"sk-top-container\"><div class=\"sk-text-repr-fallback\"><pre>LinearRegression()</pre><b>In a Jupyter environment, please rerun this cell to show the HTML representation or trust the notebook. <br />On GitHub, the HTML representation is unable to render, please try loading this page with nbviewer.org.</b></div><div class=\"sk-container\" hidden><div class=\"sk-item\"><div class=\"sk-estimator sk-toggleable\"><input class=\"sk-toggleable__control sk-hidden--visually\" id=\"sk-estimator-id-1\" type=\"checkbox\" checked><label for=\"sk-estimator-id-1\" class=\"sk-toggleable__label sk-toggleable__label-arrow\">LinearRegression</label><div class=\"sk-toggleable__content\"><pre>LinearRegression()</pre></div></div></div></div></div>"
      ],
      "text/plain": [
       "LinearRegression()"
      ]
     },
     "execution_count": 23,
     "metadata": {},
     "output_type": "execute_result"
    }
   ],
   "source": [
    "multi = LinearRegression()  \n",
    "multi.fit(x_train, y_train)"
   ]
  },
  {
   "cell_type": "code",
   "execution_count": 24,
   "id": "46789796",
   "metadata": {},
   "outputs": [
    {
     "data": {
      "text/plain": [
       "array([53.05494481, 53.05494481, 91.67833234, 66.8216968 , 53.05494481,\n",
       "       66.8216968 , 66.8216968 , 91.67833234, 91.67833234, 72.29015662,\n",
       "       62.61518925, 53.05494481, 53.05494481, 91.67833234, 72.29015662,\n",
       "       91.67833234, 53.05494481, 72.29015662, 72.29015662, 72.29015662,\n",
       "       91.67833234, 72.29015662, 53.05494481, 53.05494481, 91.67833234,\n",
       "       66.8216968 , 53.05494481, 66.8216968 , 91.67833234, 72.29015662,\n",
       "       91.67833234, 91.67833234, 91.67833234, 91.67833234, 66.8216968 ,\n",
       "       91.67833234, 72.29015662, 53.05494481, 72.29015662, 53.05494481,\n",
       "       66.8216968 , 72.29015662, 72.29015662, 53.05494481, 66.8216968 ,\n",
       "       66.8216968 , 72.29015662, 72.29015662, 91.67833234, 71.56357804,\n",
       "       72.29015662, 53.05494481, 66.8216968 , 91.67833234, 53.05494481,\n",
       "       71.56357804, 66.8216968 , 91.67833234, 62.61518925, 70.87524044,\n",
       "       66.8216968 , 91.67833234, 66.8216968 , 66.8216968 ])"
      ]
     },
     "execution_count": 24,
     "metadata": {},
     "output_type": "execute_result"
    }
   ],
   "source": [
    "multi.predict(x_train)"
   ]
  },
  {
   "cell_type": "code",
   "execution_count": 25,
   "id": "a67c982c",
   "metadata": {},
   "outputs": [
    {
     "name": "stdout",
     "output_type": "stream",
     "text": [
      "R-squared:  0.2956084339748204\n",
      "Intercept:  52.67253503621316\n",
      "Coefficients:\n"
     ]
    },
    {
     "data": {
      "text/plain": [
       "[('piece_count', 0.03824097774405698), ('ages', 0.0)]"
      ]
     },
     "execution_count": 25,
     "metadata": {},
     "output_type": "execute_result"
    }
   ],
   "source": [
    "# Checking the value of R-squared, intercept and coefficients\n",
    "print(\"R-squared: \", multi.score(x_train, y_train))\n",
    "print(\"Intercept: \", multi.intercept_)\n",
    "print(\"Coefficients:\")\n",
    "list(zip(x_train, multi.coef_))"
   ]
  },
  {
   "cell_type": "code",
   "execution_count": 26,
   "id": "7bccc43f",
   "metadata": {},
   "outputs": [
    {
     "data": {
      "text/plain": [
       "1020"
      ]
     },
     "execution_count": 26,
     "metadata": {},
     "output_type": "execute_result"
    }
   ],
   "source": [
    "df_lego_ages_30['piece_count'].max()"
   ]
  },
  {
   "cell_type": "markdown",
   "id": "667045b6",
   "metadata": {},
   "source": [
    "##### Question 2 :  What price should be set for all the Lego sets that have 8,000 Lego pieces and are most likely to be purchased by customers who are 30 years old?\n",
    "### Answer : \n",
    "**We don't have enough data to predict the price for Lego sets in the category of 8000 Lego piecesin and for the age group 30 years.**\n",
    "\n",
    "### Obervations based on Multiple Linear Regression Analysis\n",
    "\n",
    "1. **R-squared (the coefficient of determination)** is **very Low**.\n",
    "\n",
    "\n",
    "2.  A **Very LOW** value of the **coefficient of determination** means:\n",
    "      - There is a **Very WEAK or NO Relationship** between the model and dependent variables **Price** and **Ages**\n",
    "      \n",
    "\n",
    "3. Furthermore, looking at the data for Lego sets for ages = 30, **the maximum number of pieces for the age group 30** is **1020**. Therefore, it is **not feasible** to predict the price of Lego sets having 8000 pieces for the age group 30.\n",
    "\n",
    "\n",
    "4. **We should look at a different age group where we have more sales data available.**\n",
    "\n",
    "\n",
    "\n",
    "5. **Other than ages we should analys if there is a strong relationship between price and country**\n",
    "      "
   ]
  },
  {
   "cell_type": "code",
   "execution_count": 27,
   "id": "25759060",
   "metadata": {},
   "outputs": [
    {
     "name": "stdout",
     "output_type": "stream",
     "text": [
      "Predicted Value: \n",
      " [358.60035699]\n"
     ]
    },
    {
     "name": "stderr",
     "output_type": "stream",
     "text": [
      "/Users/Saurabh/opt/anaconda3/envs/Python/lib/python3.10/site-packages/sklearn/base.py:450: UserWarning: X does not have valid feature names, but LinearRegression was fitted with feature names\n",
      "  warnings.warn(\n"
     ]
    }
   ],
   "source": [
    "# BELOW PREDICTION IS IRRELEVANT AS THERE IS NO RELATIONSHIP BETWEEN PRICE AND AGE GROUP 30 WITH PIECE_COUNT 8000\n",
    "###################################################################################################################\n",
    "# make predictions\n",
    "New_Value1 = 8000\n",
    "New_Value2 = 30\n",
    "print ('Predicted Value: \\n', multi.predict([[New_Value1 ,New_Value2]]))  "
   ]
  },
  {
   "cell_type": "markdown",
   "id": "9af0bdbc",
   "metadata": {},
   "source": [
    "## Determine the most popular and the most expensive products purchased by a particular group of customers.\n",
    "\n",
    " 1. **Which are the most popular (i.e. with the most number of reviews) Lego sets purchased by customers who are at the most 25 years old (<25 years)?**\n",
    " \n",
    " 2. **What is the most expensive Lego set purchased by customers who are at least 25 years old (>25 years)?**"
   ]
  },
  {
   "cell_type": "code",
   "execution_count": 28,
   "id": "fc8348f6",
   "metadata": {},
   "outputs": [
    {
     "data": {
      "text/html": [
       "<div>\n",
       "<style scoped>\n",
       "    .dataframe tbody tr th:only-of-type {\n",
       "        vertical-align: middle;\n",
       "    }\n",
       "\n",
       "    .dataframe tbody tr th {\n",
       "        vertical-align: top;\n",
       "    }\n",
       "\n",
       "    .dataframe thead th {\n",
       "        text-align: right;\n",
       "    }\n",
       "</style>\n",
       "<table border=\"1\" class=\"dataframe\">\n",
       "  <thead>\n",
       "    <tr style=\"text-align: right;\">\n",
       "      <th></th>\n",
       "      <th>ages</th>\n",
       "      <th>list_price</th>\n",
       "      <th>num_reviews</th>\n",
       "      <th>piece_count</th>\n",
       "      <th>play_star_rating</th>\n",
       "      <th>review_difficulty</th>\n",
       "      <th>country</th>\n",
       "    </tr>\n",
       "  </thead>\n",
       "  <tbody>\n",
       "    <tr>\n",
       "      <th>0</th>\n",
       "      <td>19</td>\n",
       "      <td>29.99</td>\n",
       "      <td>2</td>\n",
       "      <td>277</td>\n",
       "      <td>4.0</td>\n",
       "      <td>0</td>\n",
       "      <td>20</td>\n",
       "    </tr>\n",
       "    <tr>\n",
       "      <th>1</th>\n",
       "      <td>19</td>\n",
       "      <td>19.99</td>\n",
       "      <td>2</td>\n",
       "      <td>168</td>\n",
       "      <td>4.0</td>\n",
       "      <td>2</td>\n",
       "      <td>20</td>\n",
       "    </tr>\n",
       "    <tr>\n",
       "      <th>2</th>\n",
       "      <td>19</td>\n",
       "      <td>12.99</td>\n",
       "      <td>11</td>\n",
       "      <td>74</td>\n",
       "      <td>4.3</td>\n",
       "      <td>2</td>\n",
       "      <td>20</td>\n",
       "    </tr>\n",
       "    <tr>\n",
       "      <th>3</th>\n",
       "      <td>5</td>\n",
       "      <td>99.99</td>\n",
       "      <td>23</td>\n",
       "      <td>1032</td>\n",
       "      <td>3.6</td>\n",
       "      <td>0</td>\n",
       "      <td>20</td>\n",
       "    </tr>\n",
       "    <tr>\n",
       "      <th>4</th>\n",
       "      <td>5</td>\n",
       "      <td>79.99</td>\n",
       "      <td>14</td>\n",
       "      <td>744</td>\n",
       "      <td>3.2</td>\n",
       "      <td>1</td>\n",
       "      <td>20</td>\n",
       "    </tr>\n",
       "  </tbody>\n",
       "</table>\n",
       "</div>"
      ],
      "text/plain": [
       "   ages  list_price  num_reviews  piece_count  play_star_rating  \\\n",
       "0    19       29.99            2          277               4.0   \n",
       "1    19       19.99            2          168               4.0   \n",
       "2    19       12.99           11           74               4.3   \n",
       "3     5       99.99           23         1032               3.6   \n",
       "4     5       79.99           14          744               3.2   \n",
       "\n",
       "   review_difficulty  country  \n",
       "0                  0       20  \n",
       "1                  2       20  \n",
       "2                  2       20  \n",
       "3                  0       20  \n",
       "4                  1       20  "
      ]
     },
     "execution_count": 28,
     "metadata": {},
     "output_type": "execute_result"
    }
   ],
   "source": [
    "df_lego.head()"
   ]
  },
  {
   "cell_type": "code",
   "execution_count": 37,
   "id": "35b8d9bd",
   "metadata": {},
   "outputs": [
    {
     "data": {
      "text/plain": [
       "367"
      ]
     },
     "execution_count": 37,
     "metadata": {},
     "output_type": "execute_result"
    }
   ],
   "source": [
    "# Maximum number of review in the lego data set\n",
    "max_reviews = df_lego['num_reviews'].max()\n",
    "max_reviews"
   ]
  },
  {
   "cell_type": "markdown",
   "id": "f74a4c1d",
   "metadata": {},
   "source": [
    "### Determine the customer group that will most likely leave a review on the products they have purchased."
   ]
  },
  {
   "cell_type": "code",
   "execution_count": 51,
   "id": "3eb267b0",
   "metadata": {},
   "outputs": [
    {
     "data": {
      "text/html": [
       "<div>\n",
       "<style scoped>\n",
       "    .dataframe tbody tr th:only-of-type {\n",
       "        vertical-align: middle;\n",
       "    }\n",
       "\n",
       "    .dataframe tbody tr th {\n",
       "        vertical-align: top;\n",
       "    }\n",
       "\n",
       "    .dataframe thead th {\n",
       "        text-align: right;\n",
       "    }\n",
       "</style>\n",
       "<table border=\"1\" class=\"dataframe\">\n",
       "  <thead>\n",
       "    <tr style=\"text-align: right;\">\n",
       "      <th></th>\n",
       "      <th>ages</th>\n",
       "      <th>list_price</th>\n",
       "      <th>num_reviews</th>\n",
       "      <th>piece_count</th>\n",
       "      <th>play_star_rating</th>\n",
       "      <th>review_difficulty</th>\n",
       "      <th>country</th>\n",
       "    </tr>\n",
       "  </thead>\n",
       "  <tbody>\n",
       "    <tr>\n",
       "      <th>409</th>\n",
       "      <td>7</td>\n",
       "      <td>119.9900</td>\n",
       "      <td>367</td>\n",
       "      <td>1969</td>\n",
       "      <td>4.6</td>\n",
       "      <td>1</td>\n",
       "      <td>20</td>\n",
       "    </tr>\n",
       "    <tr>\n",
       "      <th>1099</th>\n",
       "      <td>7</td>\n",
       "      <td>129.1924</td>\n",
       "      <td>367</td>\n",
       "      <td>1969</td>\n",
       "      <td>4.6</td>\n",
       "      <td>1</td>\n",
       "      <td>1</td>\n",
       "    </tr>\n",
       "    <tr>\n",
       "      <th>1674</th>\n",
       "      <td>7</td>\n",
       "      <td>146.3878</td>\n",
       "      <td>367</td>\n",
       "      <td>1969</td>\n",
       "      <td>4.6</td>\n",
       "      <td>1</td>\n",
       "      <td>0</td>\n",
       "    </tr>\n",
       "    <tr>\n",
       "      <th>2240</th>\n",
       "      <td>7</td>\n",
       "      <td>158.5878</td>\n",
       "      <td>367</td>\n",
       "      <td>1969</td>\n",
       "      <td>4.6</td>\n",
       "      <td>1</td>\n",
       "      <td>2</td>\n",
       "    </tr>\n",
       "    <tr>\n",
       "      <th>2937</th>\n",
       "      <td>7</td>\n",
       "      <td>116.9922</td>\n",
       "      <td>367</td>\n",
       "      <td>1969</td>\n",
       "      <td>4.6</td>\n",
       "      <td>1</td>\n",
       "      <td>3</td>\n",
       "    </tr>\n",
       "    <tr>\n",
       "      <th>3629</th>\n",
       "      <td>7</td>\n",
       "      <td>141.7800</td>\n",
       "      <td>367</td>\n",
       "      <td>1969</td>\n",
       "      <td>4.6</td>\n",
       "      <td>1</td>\n",
       "      <td>4</td>\n",
       "    </tr>\n",
       "    <tr>\n",
       "      <th>4174</th>\n",
       "      <td>7</td>\n",
       "      <td>158.3520</td>\n",
       "      <td>367</td>\n",
       "      <td>1969</td>\n",
       "      <td>4.6</td>\n",
       "      <td>1</td>\n",
       "      <td>5</td>\n",
       "    </tr>\n",
       "    <tr>\n",
       "      <th>4723</th>\n",
       "      <td>7</td>\n",
       "      <td>158.5878</td>\n",
       "      <td>367</td>\n",
       "      <td>1969</td>\n",
       "      <td>4.6</td>\n",
       "      <td>1</td>\n",
       "      <td>6</td>\n",
       "    </tr>\n",
       "    <tr>\n",
       "      <th>5295</th>\n",
       "      <td>7</td>\n",
       "      <td>131.8800</td>\n",
       "      <td>367</td>\n",
       "      <td>1969</td>\n",
       "      <td>4.6</td>\n",
       "      <td>1</td>\n",
       "      <td>7</td>\n",
       "    </tr>\n",
       "    <tr>\n",
       "      <th>5847</th>\n",
       "      <td>7</td>\n",
       "      <td>158.5878</td>\n",
       "      <td>367</td>\n",
       "      <td>1969</td>\n",
       "      <td>4.6</td>\n",
       "      <td>1</td>\n",
       "      <td>8</td>\n",
       "    </tr>\n",
       "    <tr>\n",
       "      <th>6396</th>\n",
       "      <td>7</td>\n",
       "      <td>170.7390</td>\n",
       "      <td>367</td>\n",
       "      <td>1969</td>\n",
       "      <td>4.6</td>\n",
       "      <td>1</td>\n",
       "      <td>9</td>\n",
       "    </tr>\n",
       "    <tr>\n",
       "      <th>6961</th>\n",
       "      <td>7</td>\n",
       "      <td>146.3878</td>\n",
       "      <td>367</td>\n",
       "      <td>1969</td>\n",
       "      <td>4.6</td>\n",
       "      <td>1</td>\n",
       "      <td>10</td>\n",
       "    </tr>\n",
       "    <tr>\n",
       "      <th>7537</th>\n",
       "      <td>7</td>\n",
       "      <td>153.9860</td>\n",
       "      <td>367</td>\n",
       "      <td>1969</td>\n",
       "      <td>4.6</td>\n",
       "      <td>1</td>\n",
       "      <td>11</td>\n",
       "    </tr>\n",
       "    <tr>\n",
       "      <th>8108</th>\n",
       "      <td>7</td>\n",
       "      <td>146.3878</td>\n",
       "      <td>367</td>\n",
       "      <td>1969</td>\n",
       "      <td>4.6</td>\n",
       "      <td>1</td>\n",
       "      <td>12</td>\n",
       "    </tr>\n",
       "    <tr>\n",
       "      <th>8658</th>\n",
       "      <td>7</td>\n",
       "      <td>146.3878</td>\n",
       "      <td>367</td>\n",
       "      <td>1969</td>\n",
       "      <td>4.6</td>\n",
       "      <td>1</td>\n",
       "      <td>13</td>\n",
       "    </tr>\n",
       "    <tr>\n",
       "      <th>9208</th>\n",
       "      <td>7</td>\n",
       "      <td>158.5878</td>\n",
       "      <td>367</td>\n",
       "      <td>1969</td>\n",
       "      <td>4.6</td>\n",
       "      <td>1</td>\n",
       "      <td>14</td>\n",
       "    </tr>\n",
       "    <tr>\n",
       "      <th>9757</th>\n",
       "      <td>7</td>\n",
       "      <td>181.8700</td>\n",
       "      <td>367</td>\n",
       "      <td>1969</td>\n",
       "      <td>4.6</td>\n",
       "      <td>1</td>\n",
       "      <td>16</td>\n",
       "    </tr>\n",
       "    <tr>\n",
       "      <th>10330</th>\n",
       "      <td>7</td>\n",
       "      <td>158.5878</td>\n",
       "      <td>367</td>\n",
       "      <td>1969</td>\n",
       "      <td>4.6</td>\n",
       "      <td>1</td>\n",
       "      <td>15</td>\n",
       "    </tr>\n",
       "    <tr>\n",
       "      <th>10901</th>\n",
       "      <td>7</td>\n",
       "      <td>141.9929</td>\n",
       "      <td>367</td>\n",
       "      <td>1969</td>\n",
       "      <td>4.6</td>\n",
       "      <td>1</td>\n",
       "      <td>17</td>\n",
       "    </tr>\n",
       "    <tr>\n",
       "      <th>11435</th>\n",
       "      <td>7</td>\n",
       "      <td>153.6971</td>\n",
       "      <td>367</td>\n",
       "      <td>1969</td>\n",
       "      <td>4.6</td>\n",
       "      <td>1</td>\n",
       "      <td>18</td>\n",
       "    </tr>\n",
       "    <tr>\n",
       "      <th>11976</th>\n",
       "      <td>7</td>\n",
       "      <td>158.5878</td>\n",
       "      <td>367</td>\n",
       "      <td>1969</td>\n",
       "      <td>4.6</td>\n",
       "      <td>1</td>\n",
       "      <td>19</td>\n",
       "    </tr>\n",
       "  </tbody>\n",
       "</table>\n",
       "</div>"
      ],
      "text/plain": [
       "       ages  list_price  num_reviews  piece_count  play_star_rating  \\\n",
       "409       7    119.9900          367         1969               4.6   \n",
       "1099      7    129.1924          367         1969               4.6   \n",
       "1674      7    146.3878          367         1969               4.6   \n",
       "2240      7    158.5878          367         1969               4.6   \n",
       "2937      7    116.9922          367         1969               4.6   \n",
       "3629      7    141.7800          367         1969               4.6   \n",
       "4174      7    158.3520          367         1969               4.6   \n",
       "4723      7    158.5878          367         1969               4.6   \n",
       "5295      7    131.8800          367         1969               4.6   \n",
       "5847      7    158.5878          367         1969               4.6   \n",
       "6396      7    170.7390          367         1969               4.6   \n",
       "6961      7    146.3878          367         1969               4.6   \n",
       "7537      7    153.9860          367         1969               4.6   \n",
       "8108      7    146.3878          367         1969               4.6   \n",
       "8658      7    146.3878          367         1969               4.6   \n",
       "9208      7    158.5878          367         1969               4.6   \n",
       "9757      7    181.8700          367         1969               4.6   \n",
       "10330     7    158.5878          367         1969               4.6   \n",
       "10901     7    141.9929          367         1969               4.6   \n",
       "11435     7    153.6971          367         1969               4.6   \n",
       "11976     7    158.5878          367         1969               4.6   \n",
       "\n",
       "       review_difficulty  country  \n",
       "409                    1       20  \n",
       "1099                   1        1  \n",
       "1674                   1        0  \n",
       "2240                   1        2  \n",
       "2937                   1        3  \n",
       "3629                   1        4  \n",
       "4174                   1        5  \n",
       "4723                   1        6  \n",
       "5295                   1        7  \n",
       "5847                   1        8  \n",
       "6396                   1        9  \n",
       "6961                   1       10  \n",
       "7537                   1       11  \n",
       "8108                   1       12  \n",
       "8658                   1       13  \n",
       "9208                   1       14  \n",
       "9757                   1       16  \n",
       "10330                  1       15  \n",
       "10901                  1       17  \n",
       "11435                  1       18  \n",
       "11976                  1       19  "
      ]
     },
     "execution_count": 51,
     "metadata": {},
     "output_type": "execute_result"
    }
   ],
   "source": [
    "df_lego[df_lego['num_reviews'] == max_reviews]"
   ]
  },
  {
   "cell_type": "markdown",
   "id": "52f301f0",
   "metadata": {},
   "source": [
    "### Question: Which age group submits the most reviews?\n",
    "### Answer:\n",
    "Based on **above data**, **Maximum number of reviews (367)** are submitted in the **age group of 7 years**\n"
   ]
  },
  {
   "cell_type": "code",
   "execution_count": 52,
   "id": "16345d39",
   "metadata": {},
   "outputs": [
    {
     "data": {
      "text/html": [
       "<div>\n",
       "<style scoped>\n",
       "    .dataframe tbody tr th:only-of-type {\n",
       "        vertical-align: middle;\n",
       "    }\n",
       "\n",
       "    .dataframe tbody tr th {\n",
       "        vertical-align: top;\n",
       "    }\n",
       "\n",
       "    .dataframe thead th {\n",
       "        text-align: right;\n",
       "    }\n",
       "</style>\n",
       "<table border=\"1\" class=\"dataframe\">\n",
       "  <thead>\n",
       "    <tr style=\"text-align: right;\">\n",
       "      <th></th>\n",
       "      <th>ages</th>\n",
       "      <th>list_price</th>\n",
       "      <th>num_reviews</th>\n",
       "      <th>piece_count</th>\n",
       "      <th>play_star_rating</th>\n",
       "      <th>review_difficulty</th>\n",
       "      <th>country</th>\n",
       "    </tr>\n",
       "  </thead>\n",
       "  <tbody>\n",
       "    <tr>\n",
       "      <th>409</th>\n",
       "      <td>7</td>\n",
       "      <td>119.9900</td>\n",
       "      <td>367</td>\n",
       "      <td>1969</td>\n",
       "      <td>4.6</td>\n",
       "      <td>1</td>\n",
       "      <td>20</td>\n",
       "    </tr>\n",
       "    <tr>\n",
       "      <th>1099</th>\n",
       "      <td>7</td>\n",
       "      <td>129.1924</td>\n",
       "      <td>367</td>\n",
       "      <td>1969</td>\n",
       "      <td>4.6</td>\n",
       "      <td>1</td>\n",
       "      <td>1</td>\n",
       "    </tr>\n",
       "    <tr>\n",
       "      <th>1674</th>\n",
       "      <td>7</td>\n",
       "      <td>146.3878</td>\n",
       "      <td>367</td>\n",
       "      <td>1969</td>\n",
       "      <td>4.6</td>\n",
       "      <td>1</td>\n",
       "      <td>0</td>\n",
       "    </tr>\n",
       "    <tr>\n",
       "      <th>2240</th>\n",
       "      <td>7</td>\n",
       "      <td>158.5878</td>\n",
       "      <td>367</td>\n",
       "      <td>1969</td>\n",
       "      <td>4.6</td>\n",
       "      <td>1</td>\n",
       "      <td>2</td>\n",
       "    </tr>\n",
       "    <tr>\n",
       "      <th>2937</th>\n",
       "      <td>7</td>\n",
       "      <td>116.9922</td>\n",
       "      <td>367</td>\n",
       "      <td>1969</td>\n",
       "      <td>4.6</td>\n",
       "      <td>1</td>\n",
       "      <td>3</td>\n",
       "    </tr>\n",
       "    <tr>\n",
       "      <th>3629</th>\n",
       "      <td>7</td>\n",
       "      <td>141.7800</td>\n",
       "      <td>367</td>\n",
       "      <td>1969</td>\n",
       "      <td>4.6</td>\n",
       "      <td>1</td>\n",
       "      <td>4</td>\n",
       "    </tr>\n",
       "    <tr>\n",
       "      <th>4174</th>\n",
       "      <td>7</td>\n",
       "      <td>158.3520</td>\n",
       "      <td>367</td>\n",
       "      <td>1969</td>\n",
       "      <td>4.6</td>\n",
       "      <td>1</td>\n",
       "      <td>5</td>\n",
       "    </tr>\n",
       "    <tr>\n",
       "      <th>4723</th>\n",
       "      <td>7</td>\n",
       "      <td>158.5878</td>\n",
       "      <td>367</td>\n",
       "      <td>1969</td>\n",
       "      <td>4.6</td>\n",
       "      <td>1</td>\n",
       "      <td>6</td>\n",
       "    </tr>\n",
       "    <tr>\n",
       "      <th>5295</th>\n",
       "      <td>7</td>\n",
       "      <td>131.8800</td>\n",
       "      <td>367</td>\n",
       "      <td>1969</td>\n",
       "      <td>4.6</td>\n",
       "      <td>1</td>\n",
       "      <td>7</td>\n",
       "    </tr>\n",
       "    <tr>\n",
       "      <th>5847</th>\n",
       "      <td>7</td>\n",
       "      <td>158.5878</td>\n",
       "      <td>367</td>\n",
       "      <td>1969</td>\n",
       "      <td>4.6</td>\n",
       "      <td>1</td>\n",
       "      <td>8</td>\n",
       "    </tr>\n",
       "    <tr>\n",
       "      <th>6396</th>\n",
       "      <td>7</td>\n",
       "      <td>170.7390</td>\n",
       "      <td>367</td>\n",
       "      <td>1969</td>\n",
       "      <td>4.6</td>\n",
       "      <td>1</td>\n",
       "      <td>9</td>\n",
       "    </tr>\n",
       "    <tr>\n",
       "      <th>6961</th>\n",
       "      <td>7</td>\n",
       "      <td>146.3878</td>\n",
       "      <td>367</td>\n",
       "      <td>1969</td>\n",
       "      <td>4.6</td>\n",
       "      <td>1</td>\n",
       "      <td>10</td>\n",
       "    </tr>\n",
       "    <tr>\n",
       "      <th>7537</th>\n",
       "      <td>7</td>\n",
       "      <td>153.9860</td>\n",
       "      <td>367</td>\n",
       "      <td>1969</td>\n",
       "      <td>4.6</td>\n",
       "      <td>1</td>\n",
       "      <td>11</td>\n",
       "    </tr>\n",
       "    <tr>\n",
       "      <th>8108</th>\n",
       "      <td>7</td>\n",
       "      <td>146.3878</td>\n",
       "      <td>367</td>\n",
       "      <td>1969</td>\n",
       "      <td>4.6</td>\n",
       "      <td>1</td>\n",
       "      <td>12</td>\n",
       "    </tr>\n",
       "    <tr>\n",
       "      <th>8658</th>\n",
       "      <td>7</td>\n",
       "      <td>146.3878</td>\n",
       "      <td>367</td>\n",
       "      <td>1969</td>\n",
       "      <td>4.6</td>\n",
       "      <td>1</td>\n",
       "      <td>13</td>\n",
       "    </tr>\n",
       "    <tr>\n",
       "      <th>9208</th>\n",
       "      <td>7</td>\n",
       "      <td>158.5878</td>\n",
       "      <td>367</td>\n",
       "      <td>1969</td>\n",
       "      <td>4.6</td>\n",
       "      <td>1</td>\n",
       "      <td>14</td>\n",
       "    </tr>\n",
       "    <tr>\n",
       "      <th>9757</th>\n",
       "      <td>7</td>\n",
       "      <td>181.8700</td>\n",
       "      <td>367</td>\n",
       "      <td>1969</td>\n",
       "      <td>4.6</td>\n",
       "      <td>1</td>\n",
       "      <td>16</td>\n",
       "    </tr>\n",
       "    <tr>\n",
       "      <th>10330</th>\n",
       "      <td>7</td>\n",
       "      <td>158.5878</td>\n",
       "      <td>367</td>\n",
       "      <td>1969</td>\n",
       "      <td>4.6</td>\n",
       "      <td>1</td>\n",
       "      <td>15</td>\n",
       "    </tr>\n",
       "    <tr>\n",
       "      <th>10901</th>\n",
       "      <td>7</td>\n",
       "      <td>141.9929</td>\n",
       "      <td>367</td>\n",
       "      <td>1969</td>\n",
       "      <td>4.6</td>\n",
       "      <td>1</td>\n",
       "      <td>17</td>\n",
       "    </tr>\n",
       "    <tr>\n",
       "      <th>11435</th>\n",
       "      <td>7</td>\n",
       "      <td>153.6971</td>\n",
       "      <td>367</td>\n",
       "      <td>1969</td>\n",
       "      <td>4.6</td>\n",
       "      <td>1</td>\n",
       "      <td>18</td>\n",
       "    </tr>\n",
       "    <tr>\n",
       "      <th>11976</th>\n",
       "      <td>7</td>\n",
       "      <td>158.5878</td>\n",
       "      <td>367</td>\n",
       "      <td>1969</td>\n",
       "      <td>4.6</td>\n",
       "      <td>1</td>\n",
       "      <td>19</td>\n",
       "    </tr>\n",
       "  </tbody>\n",
       "</table>\n",
       "</div>"
      ],
      "text/plain": [
       "       ages  list_price  num_reviews  piece_count  play_star_rating  \\\n",
       "409       7    119.9900          367         1969               4.6   \n",
       "1099      7    129.1924          367         1969               4.6   \n",
       "1674      7    146.3878          367         1969               4.6   \n",
       "2240      7    158.5878          367         1969               4.6   \n",
       "2937      7    116.9922          367         1969               4.6   \n",
       "3629      7    141.7800          367         1969               4.6   \n",
       "4174      7    158.3520          367         1969               4.6   \n",
       "4723      7    158.5878          367         1969               4.6   \n",
       "5295      7    131.8800          367         1969               4.6   \n",
       "5847      7    158.5878          367         1969               4.6   \n",
       "6396      7    170.7390          367         1969               4.6   \n",
       "6961      7    146.3878          367         1969               4.6   \n",
       "7537      7    153.9860          367         1969               4.6   \n",
       "8108      7    146.3878          367         1969               4.6   \n",
       "8658      7    146.3878          367         1969               4.6   \n",
       "9208      7    158.5878          367         1969               4.6   \n",
       "9757      7    181.8700          367         1969               4.6   \n",
       "10330     7    158.5878          367         1969               4.6   \n",
       "10901     7    141.9929          367         1969               4.6   \n",
       "11435     7    153.6971          367         1969               4.6   \n",
       "11976     7    158.5878          367         1969               4.6   \n",
       "\n",
       "       review_difficulty  country  \n",
       "409                    1       20  \n",
       "1099                   1        1  \n",
       "1674                   1        0  \n",
       "2240                   1        2  \n",
       "2937                   1        3  \n",
       "3629                   1        4  \n",
       "4174                   1        5  \n",
       "4723                   1        6  \n",
       "5295                   1        7  \n",
       "5847                   1        8  \n",
       "6396                   1        9  \n",
       "6961                   1       10  \n",
       "7537                   1       11  \n",
       "8108                   1       12  \n",
       "8658                   1       13  \n",
       "9208                   1       14  \n",
       "9757                   1       16  \n",
       "10330                  1       15  \n",
       "10901                  1       17  \n",
       "11435                  1       18  \n",
       "11976                  1       19  "
      ]
     },
     "execution_count": 52,
     "metadata": {},
     "output_type": "execute_result"
    }
   ],
   "source": [
    "#Lego sets purchased in the age group less than 25 years old\n",
    "df_lego['ages'] < 25\n",
    "df_lego_age_25 = df_lego[df_lego['ages'] < 25]\n",
    "df_lego_age_25\n",
    "#Lego sets purchased in the age group upto 25 years old with maximum no. of reviews\n",
    "df_lego_25_max_rev = df_lego_age_25[df_lego_age_25['num_reviews']== max_reviews]\n",
    "df_lego_25_max_rev"
   ]
  },
  {
   "cell_type": "markdown",
   "id": "d83a3fee",
   "metadata": {},
   "source": [
    "### Question:  Which are the most popular (i.e. with the most number of reviews) Lego sets purchased by customers who are at the most 25 years old (<25 years)?\n",
    "\n",
    "### Answer :  \n",
    "Most popular with the maximum 367 reviews are in the **age group 7 years** and interestingly the **number of lego pieces** in all of them are **1969**, with **player rating 4.6**\n"
   ]
  },
  {
   "cell_type": "code",
   "execution_count": 43,
   "id": "787d7aec",
   "metadata": {},
   "outputs": [
    {
     "name": "stdout",
     "output_type": "stream",
     "text": [
      "259.87\n"
     ]
    },
    {
     "data": {
      "text/html": [
       "<div>\n",
       "<style scoped>\n",
       "    .dataframe tbody tr th:only-of-type {\n",
       "        vertical-align: middle;\n",
       "    }\n",
       "\n",
       "    .dataframe tbody tr th {\n",
       "        vertical-align: top;\n",
       "    }\n",
       "\n",
       "    .dataframe thead th {\n",
       "        text-align: right;\n",
       "    }\n",
       "</style>\n",
       "<table border=\"1\" class=\"dataframe\">\n",
       "  <thead>\n",
       "    <tr style=\"text-align: right;\">\n",
       "      <th></th>\n",
       "      <th>ages</th>\n",
       "      <th>list_price</th>\n",
       "      <th>num_reviews</th>\n",
       "      <th>piece_count</th>\n",
       "      <th>play_star_rating</th>\n",
       "      <th>review_difficulty</th>\n",
       "      <th>country</th>\n",
       "    </tr>\n",
       "  </thead>\n",
       "  <tbody>\n",
       "    <tr>\n",
       "      <th>9913</th>\n",
       "      <td>29</td>\n",
       "      <td>259.87</td>\n",
       "      <td>6</td>\n",
       "      <td>1413</td>\n",
       "      <td>4.3</td>\n",
       "      <td>0</td>\n",
       "      <td>16</td>\n",
       "    </tr>\n",
       "  </tbody>\n",
       "</table>\n",
       "</div>"
      ],
      "text/plain": [
       "      ages  list_price  num_reviews  piece_count  play_star_rating  \\\n",
       "9913    29      259.87            6         1413               4.3   \n",
       "\n",
       "      review_difficulty  country  \n",
       "9913                  0       16  "
      ]
     },
     "execution_count": 43,
     "metadata": {},
     "output_type": "execute_result"
    }
   ],
   "source": [
    "#Create a data set for the ages greater than 25\n",
    "df_lego_ages_gt_25 = df_lego[df_lego['ages'] > 25]\n",
    "#Maximum list price (most expensive lego set)\n",
    "max_list_price = df_lego_ages_gt_25['list_price'].max()\n",
    "print(max_list_price)\n",
    "df_lego_ages_gt_25[df_lego_ages_gt_25['list_price'] == max_list_price]"
   ]
  },
  {
   "cell_type": "markdown",
   "id": "8f3ebcbe",
   "metadata": {},
   "source": [
    "### Question: What is the most expensive Lego set purchased by customers who are at least 25 years old (>25 years)?\n",
    "\n",
    "### Answer :\n",
    "The **most expensive** Lego set purchased by customers who are at least 25 years old **(>25 years)** is as below:\n",
    "\n",
    "Ages: **29**\n",
    "\n",
    "List Price: **259.87 US$**\n",
    "\n",
    "Number of Pieces: **1413**\n",
    "\n",
    "Player Star Rating: **4.3**\n",
    "\n",
    "Country: **16**\n"
   ]
  },
  {
   "cell_type": "code",
   "execution_count": null,
   "id": "23379218",
   "metadata": {},
   "outputs": [],
   "source": []
  }
 ],
 "metadata": {
  "kernelspec": {
   "display_name": "Python 3 (ipykernel)",
   "language": "python",
   "name": "python3"
  },
  "language_info": {
   "codemirror_mode": {
    "name": "ipython",
    "version": 3
   },
   "file_extension": ".py",
   "mimetype": "text/x-python",
   "name": "python",
   "nbconvert_exporter": "python",
   "pygments_lexer": "ipython3",
   "version": "3.10.4"
  }
 },
 "nbformat": 4,
 "nbformat_minor": 5
}
